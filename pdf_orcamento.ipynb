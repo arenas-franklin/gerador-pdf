{
 "cells": [
  {
   "cell_type": "markdown",
   "id": "af681468-33fd-4f78-8208-2d81479f469f",
   "metadata": {},
   "source": [
    "#  Gerar PDF Automaticamento\n",
    "---"
   ]
  },
  {
   "cell_type": "markdown",
   "id": "b3c7d978-814c-4c16-a0ba-681712ca8cf0",
   "metadata": {},
   "source": [
    "**Objetivo:**\n",
    "    - Gerar automaticamente PDFs com Python\n",
    "    - Emitir orçamentos para sua empresas"
   ]
  },
  {
   "cell_type": "markdown",
   "id": "b622365d-fc49-4f0b-be49-32cf67c4db47",
   "metadata": {
    "tags": []
   },
   "source": [
    "## Desenvolvendo as entradas de dados"
   ]
  },
  {
   "cell_type": "markdown",
   "id": "4ac393aa-815c-450e-9277-848936891ead",
   "metadata": {},
   "source": [
    "- Descrição do projeto\n",
    "- Total da hora estimadas\n",
    "- Valor da hora de trabalho\n",
    "- Prazo de ntrega estimada"
   ]
  },
  {
   "cell_type": "code",
   "execution_count": 1,
   "id": "7e44546a-a212-40e0-80cb-cd0b223e9faa",
   "metadata": {},
   "outputs": [
    {
     "name": "stdin",
     "output_type": "stream",
     "text": [
      "Digite a descrição do projeto:  Desenvolviemtno Python\n",
      "Digite o total de horas estimadas:  60\n",
      "Digite o valor da hora estimadass:  120\n",
      "Digite o prazo estimado:  2 meses\n"
     ]
    }
   ],
   "source": [
    "projeto = input(\"Digite a descrição do projeto: \")\n",
    "horas_estimadas = input(\"Digite o total de horas estimadas: \")\n",
    "valor_hora = input(\"Digite o valor da hora estimadass: \")\n",
    "prazo_estimado = input(\"Digite o prazo estimado: \")"
   ]
  },
  {
   "cell_type": "markdown",
   "id": "377f09a7-5c83-4db7-9884-1289f7cffea2",
   "metadata": {},
   "source": [
    "## Criando o Cálculo do valor total estimado"
   ]
  },
  {
   "cell_type": "markdown",
   "id": "00312bb6-7417-4709-bdb3-7f05d7c9edcb",
   "metadata": {},
   "source": [
    "- **Cálculo:**  ``valor total estimado  = total de horas estimadas  X valor da hora de trabalho``"
   ]
  },
  {
   "cell_type": "code",
   "execution_count": 2,
   "id": "a6aab1b9-d5c7-4505-9687-f7fea522a564",
   "metadata": {},
   "outputs": [],
   "source": [
    "valor_total_estimado = int(horas_estimadas) * int(valor_hora)"
   ]
  },
  {
   "cell_type": "code",
   "execution_count": 3,
   "id": "9437556b-61ab-4e4f-84d6-bcdb6260f835",
   "metadata": {},
   "outputs": [
    {
     "name": "stdout",
     "output_type": "stream",
     "text": [
      "7200\n"
     ]
    }
   ],
   "source": [
    "print(valor_total_estimado)"
   ]
  },
  {
   "cell_type": "markdown",
   "id": "04497751-4d4e-4030-8daa-155bb43ca7ee",
   "metadata": {},
   "source": [
    "## Instalando a biblioteca"
   ]
  },
  {
   "cell_type": "code",
   "execution_count": 4,
   "id": "b60da65a-8cda-4c25-b188-7b302c6c8f1a",
   "metadata": {},
   "outputs": [
    {
     "name": "stdout",
     "output_type": "stream",
     "text": [
      "Requirement already satisfied: fpdf in /home/angelo/anaconda3/lib/python3.9/site-packages (1.7.2)\n"
     ]
    }
   ],
   "source": [
    "!pip install fpdf"
   ]
  },
  {
   "cell_type": "code",
   "execution_count": 5,
   "id": "2f89e721-c0be-4210-9bf1-f84a4c3fd5d9",
   "metadata": {},
   "outputs": [],
   "source": [
    "# importando a bilbioteca\n",
    "from fpdf import FPDF"
   ]
  },
  {
   "cell_type": "markdown",
   "id": "04c859bf-1d61-4b9f-8943-38d4fe9e0e0d",
   "metadata": {},
   "source": [
    "### Criando um arquivo PDF"
   ]
  },
  {
   "cell_type": "code",
   "execution_count": 6,
   "id": "efae75c6-5874-49da-b567-a9e01c1a49c6",
   "metadata": {},
   "outputs": [],
   "source": [
    "pdf = FPDF()\n",
    "pdf.add_page()\n",
    "pdf.set_font(\"Arial\")\n",
    "\n"
   ]
  },
  {
   "cell_type": "markdown",
   "id": "f7867bcb-15d5-409d-a2ae-b3db9944799c",
   "metadata": {},
   "source": [
    "### Inserindo os dados no PDF "
   ]
  },
  {
   "cell_type": "code",
   "execution_count": 7,
   "id": "445bc406-cb86-4cfb-87c4-941ed71262b9",
   "metadata": {},
   "outputs": [],
   "source": [
    "# utilizando um template\n",
    "pdf.image(\"template.png\", x=0, y=0)\n",
    "\n",
    "#inserindo os dados do projetos\n",
    "pdf.text(115, 145, projeto)\n",
    "pdf.text(115, 160, horas_estimadas)\n",
    "pdf.text(115, 175, valor_hora)\n",
    "pdf.text(115, 190, prazo_estimado)\n",
    "pdf.text(115, 205, str(valor_total_estimado))"
   ]
  },
  {
   "cell_type": "markdown",
   "id": "aa0169c2-3fdf-48e4-a290-31c6a8699a45",
   "metadata": {},
   "source": [
    "### Salvando o arquivo"
   ]
  },
  {
   "cell_type": "code",
   "execution_count": 8,
   "id": "0af66505-6667-4965-9b87-d25a57bf59a7",
   "metadata": {},
   "outputs": [
    {
     "name": "stdout",
     "output_type": "stream",
     "text": [
      "Orçamento gerado com sucesso!\n"
     ]
    }
   ],
   "source": [
    "pdf.output(\"Orçamento python.pdf\")\n",
    "print(\"Orçamento gerado com sucesso!\")"
   ]
  },
  {
   "cell_type": "code",
   "execution_count": null,
   "id": "3d6d8a27-3fd8-4ada-b414-90b84ab8514f",
   "metadata": {},
   "outputs": [],
   "source": []
  }
 ],
 "metadata": {
  "kernelspec": {
   "display_name": "Python 3 (ipykernel)",
   "language": "python",
   "name": "python3"
  },
  "language_info": {
   "codemirror_mode": {
    "name": "ipython",
    "version": 3
   },
   "file_extension": ".py",
   "mimetype": "text/x-python",
   "name": "python",
   "nbconvert_exporter": "python",
   "pygments_lexer": "ipython3",
   "version": "3.9.13"
  }
 },
 "nbformat": 4,
 "nbformat_minor": 5
}
